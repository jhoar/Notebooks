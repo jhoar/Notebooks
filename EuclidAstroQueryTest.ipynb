{
 "cells": [
  {
   "cell_type": "code",
   "execution_count": 1,
   "metadata": {},
   "outputs": [
    {
     "name": "stdout",
     "output_type": "stream",
     "text": [
      "Created TAP+ (v1.0.1) - Connection:\n",
      "\tHost: eas.esac.esa.int\n",
      "\tUse HTTPS: False\n",
      "\tPort: 80\n",
      "\tSSL Port: 443\n"
     ]
    }
   ],
   "source": [
    "import astropy.units as u\n",
    "from astropy.coordinates.sky_coordinate import SkyCoord\n",
    "from astropy.units import Quantity\n",
    "from astroquery.euclid import Euclid"
   ]
  },
  {
   "cell_type": "code",
   "execution_count": 2,
   "metadata": {},
   "outputs": [
    {
     "name": "stdout",
     "output_type": "stream",
     "text": [
      "Retrieving tables...\n",
      "Parsing tables...\n",
      "Done.\n",
      "public.stars_csv\n",
      "public.sc3_tu_cat\n",
      "public.spv02_cat\n",
      "public.observation\n",
      "public.sc2_vis_cat\n",
      "public.sc3_tu_cat2\n",
      "public.sc2_nir_cat\n",
      "public.sc3_mer_cat_01\n",
      "public.image_stats\n",
      "public.sc3_mer_cat_10\n",
      "public.sc2_nip_cat\n",
      "public.xmm3dr5_fits\n",
      "public.dual\n",
      "public.kids_mb_catalogue\n",
      "public.image_dps_view\n",
      "public.sc3_mer_catalogue\n",
      "public.dpdvisoutputsas_complete_dps_view\n",
      "public.vis_image\n",
      "public.observations_dps_view\n",
      "public.mv_sc3_mer_cat_10\n",
      "public.image_stat_dps_view\n",
      "tap_schema.tables\n",
      "tap_schema.columns\n",
      "tap_schema.keys\n",
      "tap_schema.schemas\n",
      "tap_schema.key_columns\n"
     ]
    }
   ],
   "source": [
    "tables = Euclid.load_tables(only_names=True)\n",
    "for table in (tables):\n",
    "    print(table.get_qualified_name())"
   ]
  },
  {
   "cell_type": "code",
   "execution_count": 3,
   "metadata": {},
   "outputs": [
    {
     "name": "stdout",
     "output_type": "stream",
     "text": [
      "Launched query: 'select top 100 rightascension,declination from public.sc3_mer_cat_10'\n",
      "Retrieving sync. results...\n",
      "Query finished.\n"
     ]
    }
   ],
   "source": [
    "job = Euclid.launch_job(\"select top 100 rightascension,declination from public.sc3_mer_cat_10\")"
   ]
  },
  {
   "cell_type": "code",
   "execution_count": 4,
   "metadata": {},
   "outputs": [],
   "source": [
    "results = job.get_results()"
   ]
  },
  {
   "cell_type": "code",
   "execution_count": 5,
   "metadata": {},
   "outputs": [
    {
     "name": "stdout",
     "output_type": "stream",
     "text": [
      "rightascension declination\n",
      "-------------- -----------\n",
      "        8.4954  -20.418758\n",
      "      8.397478  -20.419008\n",
      "      8.150222  -20.418182\n",
      "      8.487046  -20.417128\n",
      "      8.048966    -20.4171\n",
      "      8.387903  -20.418386\n",
      "      8.100646  -20.413496\n",
      "      8.029462  -20.419916\n",
      "      8.387057  -20.419903\n",
      "      8.356397  -20.418049\n",
      "           ...         ...\n",
      "      8.309729  -20.416842\n",
      "      8.436907  -20.416853\n",
      "      8.393636  -20.416737\n",
      "      8.292247  -20.415182\n",
      "      8.379187   -20.41714\n",
      "      8.176322   -20.41684\n",
      "      8.049243  -20.416002\n",
      "      8.526495  -20.416355\n",
      "      8.114729  -20.416986\n",
      "      8.097686   -20.41703\n",
      "      8.080196  -20.416706\n",
      "Length = 100 rows\n"
     ]
    }
   ],
   "source": [
    "print(results)"
   ]
  },
  {
   "cell_type": "code",
   "execution_count": 6,
   "metadata": {},
   "outputs": [],
   "source": [
    "%matplotlib inline"
   ]
  },
  {
   "cell_type": "code",
   "execution_count": 7,
   "metadata": {},
   "outputs": [],
   "source": [
    "import matplotlib.pyplot as plt"
   ]
  },
  {
   "cell_type": "code",
   "execution_count": 8,
   "metadata": {},
   "outputs": [
    {
     "data": {
      "text/plain": [
       "<matplotlib.collections.PathCollection at 0x1518161358>"
      ]
     },
     "execution_count": 8,
     "metadata": {},
     "output_type": "execute_result"
    },
    {
     "data": {
      "image/png": "[encoded data removed]",
      "text/plain": [
       "<Figure size 432x288 with 1 Axes>"
      ]
     },
     "metadata": {},
     "output_type": "display_data"
    }
   ],
   "source": [
    "plt.scatter(x=results['rightascension'], y=results['declination'])\n"
   ]
  },
  {
   "cell_type": "code",
   "execution_count": null,
   "metadata": {},
   "outputs": [],
   "source": []
  }
 ],
 "metadata": {
  "kernelspec": {
   "display_name": "Python 3",
   "language": "python",
   "name": "python3"
  },
  "language_info": {
   "codemirror_mode": {
    "name": "ipython",
    "version": 3
   },
   "file_extension": ".py",
   "mimetype": "text/x-python",
   "name": "python",
   "nbconvert_exporter": "python",
   "pygments_lexer": "ipython3",
   "version": "3.6.4"
  }
 },
 "nbformat": 4,
 "nbformat_minor": 2
}
